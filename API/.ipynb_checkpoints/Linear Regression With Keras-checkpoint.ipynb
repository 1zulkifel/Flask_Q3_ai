{
 "cells": [
  {
   "cell_type": "code",
   "execution_count": 1,
   "metadata": {},
   "outputs": [],
   "source": [
    "from tensorflow.keras.models import Sequential\n",
    "from tensorflow.keras.layers import Dense \n",
    "from tensorflow.keras.optimizers import Adam, SGD\n",
    "\n",
    "%matplotlib inline\n",
    "import matplotlib.pyplot as plt\n",
    "import numpy as np\n",
    "import pandas as pd"
   ]
  },
  {
   "cell_type": "code",
   "execution_count": 2,
   "metadata": {},
   "outputs": [],
   "source": [
    "df=pd.read_csv('weight-height.csv')"
   ]
  },
  {
   "cell_type": "code",
   "execution_count": 3,
   "metadata": {},
   "outputs": [],
   "source": [
    "X=df[['Height']].values\n",
    "y_true=df[['Weight']].values"
   ]
  },
  {
   "cell_type": "code",
   "execution_count": 4,
   "metadata": {},
   "outputs": [
    {
     "data": {
      "text/plain": [
       "array([[73.84701702],\n",
       "       [68.78190405],\n",
       "       [74.11010539],\n",
       "       ...,\n",
       "       [63.86799221],\n",
       "       [69.03424313],\n",
       "       [61.94424588]])"
      ]
     },
     "execution_count": 4,
     "metadata": {},
     "output_type": "execute_result"
    }
   ],
   "source": [
    "X"
   ]
  },
  {
   "cell_type": "code",
   "execution_count": 5,
   "metadata": {},
   "outputs": [
    {
     "data": {
      "text/plain": [
       "(10000, 1)"
      ]
     },
     "execution_count": 5,
     "metadata": {},
     "output_type": "execute_result"
    }
   ],
   "source": [
    "X.shape"
   ]
  },
  {
   "cell_type": "code",
   "execution_count": 6,
   "metadata": {},
   "outputs": [],
   "source": [
    "model = Sequential()\n",
    "model.add(Dense(1, input_shape=(1,)))"
   ]
  },
  {
   "cell_type": "code",
   "execution_count": 7,
   "metadata": {},
   "outputs": [
    {
     "name": "stdout",
     "output_type": "stream",
     "text": [
      "Model: \"sequential\"\n",
      "_________________________________________________________________\n",
      "Layer (type)                 Output Shape              Param #   \n",
      "=================================================================\n",
      "dense (Dense)                (None, 1)                 2         \n",
      "=================================================================\n",
      "Total params: 2\n",
      "Trainable params: 2\n",
      "Non-trainable params: 0\n",
      "_________________________________________________________________\n"
     ]
    }
   ],
   "source": [
    "model.summary()"
   ]
  },
  {
   "cell_type": "code",
   "execution_count": 8,
   "metadata": {},
   "outputs": [],
   "source": [
    "model.compile(Adam(lr=0.8), 'mean_squared_error')"
   ]
  },
  {
   "cell_type": "code",
   "execution_count": 9,
   "metadata": {},
   "outputs": [
    {
     "name": "stdout",
     "output_type": "stream",
     "text": [
      "Train on 10000 samples\n",
      "Epoch 1/40\n",
      "10000/10000 [==============================] - 1s 76us/sample - loss: 1472.0473\n",
      "Epoch 2/40\n",
      "10000/10000 [==============================] - 0s 48us/sample - loss: 561.8129\n",
      "Epoch 3/40\n",
      "10000/10000 [==============================] - 0s 50us/sample - loss: 537.8895\n",
      "Epoch 4/40\n",
      "10000/10000 [==============================] - 1s 53us/sample - loss: 503.3261\n",
      "Epoch 5/40\n",
      "10000/10000 [==============================] - 0s 46us/sample - loss: 479.6985\n",
      "Epoch 6/40\n",
      "10000/10000 [==============================] - 0s 44us/sample - loss: 420.9266\n",
      "Epoch 7/40\n",
      "10000/10000 [==============================] - 1s 51us/sample - loss: 385.8185\n",
      "Epoch 8/40\n",
      "10000/10000 [==============================] - 0s 49us/sample - loss: 382.7299\n",
      "Epoch 9/40\n",
      "10000/10000 [==============================] - 0s 47us/sample - loss: 352.3138\n",
      "Epoch 10/40\n",
      "10000/10000 [==============================] - 0s 49us/sample - loss: 300.1281\n",
      "Epoch 11/40\n",
      "10000/10000 [==============================] - 0s 47us/sample - loss: 280.6599\n",
      "Epoch 12/40\n",
      "10000/10000 [==============================] - 0s 47us/sample - loss: 253.6418\n",
      "Epoch 13/40\n",
      "10000/10000 [==============================] - 0s 49us/sample - loss: 237.4273\n",
      "Epoch 14/40\n",
      "10000/10000 [==============================] - 0s 49us/sample - loss: 225.7801\n",
      "Epoch 15/40\n",
      "10000/10000 [==============================] - 0s 45us/sample - loss: 212.2102\n",
      "Epoch 16/40\n",
      "10000/10000 [==============================] - 0s 46us/sample - loss: 202.7123\n",
      "Epoch 17/40\n",
      "10000/10000 [==============================] - 0s 45us/sample - loss: 204.5354\n",
      "Epoch 18/40\n",
      "10000/10000 [==============================] - 0s 48us/sample - loss: 200.6218\n",
      "Epoch 19/40\n",
      "10000/10000 [==============================] - 0s 47us/sample - loss: 192.8613\n",
      "Epoch 20/40\n",
      "10000/10000 [==============================] - 0s 46us/sample - loss: 181.9753\n",
      "Epoch 21/40\n",
      "10000/10000 [==============================] - 0s 43us/sample - loss: 182.6552\n",
      "Epoch 22/40\n",
      "10000/10000 [==============================] - 0s 48us/sample - loss: 192.4760\n",
      "Epoch 23/40\n",
      "10000/10000 [==============================] - 0s 48us/sample - loss: 182.5757\n",
      "Epoch 24/40\n",
      "10000/10000 [==============================] - 0s 49us/sample - loss: 178.0460\n",
      "Epoch 25/40\n",
      "10000/10000 [==============================] - 0s 48us/sample - loss: 174.5888\n",
      "Epoch 26/40\n",
      "10000/10000 [==============================] - 0s 50us/sample - loss: 185.3007\n",
      "Epoch 27/40\n",
      "10000/10000 [==============================] - 1s 70us/sample - loss: 171.5611\n",
      "Epoch 28/40\n",
      "10000/10000 [==============================] - 1s 61us/sample - loss: 178.1865\n",
      "Epoch 29/40\n",
      "10000/10000 [==============================] - 1s 55us/sample - loss: 184.0784\n",
      "Epoch 30/40\n",
      "10000/10000 [==============================] - 0s 49us/sample - loss: 176.4644\n",
      "Epoch 31/40\n",
      "10000/10000 [==============================] - 0s 44us/sample - loss: 168.8118\n",
      "Epoch 32/40\n",
      "10000/10000 [==============================] - 0s 45us/sample - loss: 187.1002\n",
      "Epoch 33/40\n",
      "10000/10000 [==============================] - 0s 47us/sample - loss: 174.6349\n",
      "Epoch 34/40\n",
      "10000/10000 [==============================] - 0s 46us/sample - loss: 179.6825\n",
      "Epoch 35/40\n",
      "10000/10000 [==============================] - 0s 45us/sample - loss: 187.4110\n",
      "Epoch 36/40\n",
      "10000/10000 [==============================] - 0s 46us/sample - loss: 176.4567\n",
      "Epoch 37/40\n",
      "10000/10000 [==============================] - 0s 42us/sample - loss: 171.9573\n",
      "Epoch 38/40\n",
      "10000/10000 [==============================] - 0s 50us/sample - loss: 180.1503\n",
      "Epoch 39/40\n",
      "10000/10000 [==============================] - 1s 57us/sample - loss: 175.2931\n",
      "Epoch 40/40\n",
      "10000/10000 [==============================] - 0s 50us/sample - loss: 177.2812\n"
     ]
    },
    {
     "data": {
      "text/plain": [
       "<tensorflow.python.keras.callbacks.History at 0x7f3c80102590>"
      ]
     },
     "execution_count": 9,
     "metadata": {},
     "output_type": "execute_result"
    }
   ],
   "source": [
    "model.fit(X,y_true, epochs=40)"
   ]
  },
  {
   "cell_type": "code",
   "execution_count": 10,
   "metadata": {},
   "outputs": [],
   "source": [
    "model.save('abc.h5')"
   ]
  },
  {
   "cell_type": "markdown",
   "metadata": {},
   "source": [
    "# Load Data here"
   ]
  },
  {
   "cell_type": "code",
   "execution_count": 11,
   "metadata": {},
   "outputs": [
    {
     "name": "stdout",
     "output_type": "stream",
     "text": [
      "Model: \"sequential\"\n",
      "_________________________________________________________________\n",
      "Layer (type)                 Output Shape              Param #   \n",
      "=================================================================\n",
      "dense (Dense)                (None, 1)                 2         \n",
      "=================================================================\n",
      "Total params: 2\n",
      "Trainable params: 2\n",
      "Non-trainable params: 0\n",
      "_________________________________________________________________\n"
     ]
    }
   ],
   "source": [
    "from tensorflow import keras\n",
    "m = keras.models.load_model('abc.h5')\n",
    "m.summary()"
   ]
  },
  {
   "cell_type": "code",
   "execution_count": 12,
   "metadata": {},
   "outputs": [
    {
     "data": {
      "text/plain": [
       "array([[1190.9587]], dtype=float32)"
      ]
     },
     "execution_count": 12,
     "metadata": {},
     "output_type": "execute_result"
    }
   ],
   "source": [
    "m.predict([[200]])"
   ]
  },
  {
   "cell_type": "code",
   "execution_count": null,
   "metadata": {},
   "outputs": [],
   "source": []
  },
  {
   "cell_type": "code",
   "execution_count": 13,
   "metadata": {},
   "outputs": [],
   "source": [
    "y_pred=model.predict(X)"
   ]
  },
  {
   "cell_type": "code",
   "execution_count": 14,
   "metadata": {},
   "outputs": [
    {
     "data": {
      "text/plain": [
       "array([[220.5712 ],\n",
       "       [181.60965],\n",
       "       [222.59494],\n",
       "       ...,\n",
       "       [143.8111 ],\n",
       "       [183.55063],\n",
       "       [129.01334]], dtype=float32)"
      ]
     },
     "execution_count": 14,
     "metadata": {},
     "output_type": "execute_result"
    }
   ],
   "source": [
    "y_pred"
   ]
  },
  {
   "cell_type": "code",
   "execution_count": 15,
   "metadata": {},
   "outputs": [
    {
     "data": {
      "text/plain": [
       "[<matplotlib.lines.Line2D at 0x7f3c64152a50>]"
      ]
     },
     "execution_count": 15,
     "metadata": {},
     "output_type": "execute_result"
    },
    {
     "data": {
      "image/png": "[encoded data removed]",
      "text/plain": [
       "<Figure size 432x288 with 1 Axes>"
      ]
     },
     "metadata": {
      "needs_background": "light"
     },
     "output_type": "display_data"
    }
   ],
   "source": [
    "df.plot(kind='scatter',\n",
    "       x='Height',\n",
    "       y='Weight', title='Weight and Height in adults')\n",
    "plt.plot(X, y_pred, color='red', linewidth=3)"
   ]
  },
  {
   "cell_type": "code",
   "execution_count": 16,
   "metadata": {},
   "outputs": [],
   "source": [
    "w,b=model.get_weights()"
   ]
  },
  {
   "cell_type": "code",
   "execution_count": 17,
   "metadata": {},
   "outputs": [
    {
     "data": {
      "text/plain": [
       "array([[7.692149]], dtype=float32)"
      ]
     },
     "execution_count": 17,
     "metadata": {},
     "output_type": "execute_result"
    }
   ],
   "source": [
    "w"
   ]
  },
  {
   "cell_type": "code",
   "execution_count": 18,
   "metadata": {},
   "outputs": [
    {
     "data": {
      "text/plain": [
       "array([-347.47104], dtype=float32)"
      ]
     },
     "execution_count": 18,
     "metadata": {},
     "output_type": "execute_result"
    }
   ],
   "source": [
    "b"
   ]
  },
  {
   "cell_type": "code",
   "execution_count": 19,
   "metadata": {},
   "outputs": [
    {
     "data": {
      "text/plain": [
       "10000"
      ]
     },
     "execution_count": 19,
     "metadata": {},
     "output_type": "execute_result"
    }
   ],
   "source": [
    "len(X)"
   ]
  },
  {
   "cell_type": "code",
   "execution_count": 20,
   "metadata": {},
   "outputs": [
    {
     "data": {
      "text/plain": [
       "array([[1190.9587]], dtype=float32)"
      ]
     },
     "execution_count": 20,
     "metadata": {},
     "output_type": "execute_result"
    }
   ],
   "source": [
    "model.predict([[200]])"
   ]
  },
  {
   "cell_type": "code",
   "execution_count": 21,
   "metadata": {},
   "outputs": [
    {
     "name": "stdout",
     "output_type": "stream",
     "text": [
      "Model: \"sequential\"\n",
      "_________________________________________________________________\n",
      "Layer (type)                 Output Shape              Param #   \n",
      "=================================================================\n",
      "dense (Dense)                (None, 1)                 2         \n",
      "=================================================================\n",
      "Total params: 2\n",
      "Trainable params: 2\n",
      "Non-trainable params: 0\n",
      "_________________________________________________________________\n"
     ]
    }
   ],
   "source": [
    "import tensorflow as tf\n",
    "m = tf.keras.models.load_model('abc.h5')\n",
    "m.summary()"
   ]
  },
  {
   "cell_type": "code",
   "execution_count": 22,
   "metadata": {},
   "outputs": [
    {
     "data": {
      "text/plain": [
       "array([[1190.9587]], dtype=float32)"
      ]
     },
     "execution_count": 22,
     "metadata": {},
     "output_type": "execute_result"
    }
   ],
   "source": [
    "m.predict([[200]])"
   ]
  },
  {
   "cell_type": "code",
   "execution_count": null,
   "metadata": {},
   "outputs": [],
   "source": []
  },
  {
   "cell_type": "code",
   "execution_count": null,
   "metadata": {},
   "outputs": [],
   "source": []
  }
 ],
 "metadata": {
  "kernelspec": {
   "display_name": "Python 3",
   "language": "python",
   "name": "python3"
  },
  "language_info": {
   "codemirror_mode": {
    "name": "ipython",
    "version": 3
   },
   "file_extension": ".py",
   "mimetype": "text/x-python",
   "name": "python",
   "nbconvert_exporter": "python",
   "pygments_lexer": "ipython3",
   "version": "3.7.4"
  }
 },
 "nbformat": 4,
 "nbformat_minor": 2
}
